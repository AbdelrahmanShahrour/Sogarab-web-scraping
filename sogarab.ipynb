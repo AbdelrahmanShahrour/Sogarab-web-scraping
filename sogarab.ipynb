{
 "cells": [
  {
   "cell_type": "code",
   "execution_count": 105,
   "id": "b1fdcb21",
   "metadata": {},
   "outputs": [
    {
     "name": "stdout",
     "output_type": "stream",
     "text": [
      "Wall time: 2.99 s\n"
     ]
    }
   ],
   "source": [
    "%%time\n",
    "import numpy as np\n",
    "import pandas as pd\n",
    "import requests\n",
    "from bs4 import BeautifulSoup\n",
    "from itertools import zip_longest\n",
    "\n",
    "# dataframe = pd.DataFrame(columns=['link', 'price', 'name', 'location', 'date'])\n",
    "getlinkall, priceall, nameall, placeall, dateall = [], [], [], [], []\n",
    "for i in range(1,4):\n",
    "    link = f'https://jo.sogarab.com/cat-5-{i}.html'\n",
    "    result = requests.get(link)\n",
    "    src = result.content\n",
    "    soup = BeautifulSoup(src, \"lxml\")\n",
    "    price = soup.find_all('p', {\"class\":\"priss\"})\n",
    "    price = [i.text for i in price]\n",
    "    # Links\n",
    "    getlink = []\n",
    "    for a in soup.find_all('a',{\"class\":\"linca\"}, href=True):\n",
    "        getlink.append(a['href'])\n",
    "    getlink = getlink[::2]\n",
    "    # name\n",
    "    name = soup.find_all('tr', {\"valign\":\"top\"})\n",
    "    name = [i.text for i in name]\n",
    "    # place\n",
    "    placcc = soup.find_all('p', {\"class\":\"placcc\"})\n",
    "    placcc = [i.text for i in placcc]\n",
    "    place = placcc[::2]\n",
    "    # date\n",
    "    date = placcc[1::2]\n",
    "    data = {'link':getlink, 'price':price, 'name':name, 'location':place, 'date':date}\n",
    "    dataframe = pd.DataFrame(data)\n",
    "    for i in range(len(date)):\n",
    "        getlinkall.append(getlink[i])\n",
    "        nameall.append(name[i])\n",
    "        priceall.append(price[i])\n",
    "        placeall.append(place[i])\n",
    "        dateall.append(date[i])\n",
    "\n",
    "\n",
    "data = {'link':getlinkall, 'price':priceall, 'name':nameall, 'location':placeall, 'date':dateall}\n",
    "dataframe = pd.DataFrame(data)\n",
    "dataframe.to_csv('sogarab.csv')"
   ]
  },
  {
   "cell_type": "code",
   "execution_count": null,
   "id": "aa5068f6",
   "metadata": {},
   "outputs": [],
   "source": []
  }
 ],
 "metadata": {
  "kernelspec": {
   "display_name": "Python 3 (ipykernel)",
   "language": "python",
   "name": "python3"
  },
  "language_info": {
   "codemirror_mode": {
    "name": "ipython",
    "version": 3
   },
   "file_extension": ".py",
   "mimetype": "text/x-python",
   "name": "python",
   "nbconvert_exporter": "python",
   "pygments_lexer": "ipython3",
   "version": "3.9.7"
  }
 },
 "nbformat": 4,
 "nbformat_minor": 5
}
